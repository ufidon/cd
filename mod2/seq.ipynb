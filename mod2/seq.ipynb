{
 "cells": [
  {
   "cell_type": "markdown",
   "metadata": {},
   "source": [
    "# Sequential Circuits\n",
    "_lcdf5 chapter 4_\n",
    "\n",
    "\n",
    "Topics\n",
    "---\n",
    "- circuits capable of storing information\n",
    "  - synchronous sequential circuit synchronized with clock\n",
    "    - flip-flops\n",
    "  - asynchronous sequential circuits states changes are\n",
    "    - triggered by the changes in inputs\n",
    "    - latches\n",
    "- describes sequential circuits in\n",
    "  - State transition tables\n",
    "  - state transition diagrams"
   ]
  },
  {
   "cell_type": "markdown",
   "metadata": {},
   "source": [
    "# Sequential Circuit Definitions\n",
    "p1\n",
    "- the output Y and next state S' of a sequential circuit depends on its current state S and input X:\n",
    "  - $Y+S' = f(S, X)$"
   ]
  },
  {
   "cell_type": "markdown",
   "metadata": {},
   "source": [
    "# Logic Structures for Storing Information\n",
    "p2 describes several primitive storage circuits\n",
    "- $t_G$ is the gate delay in several to hundreds of nanoseconds\n",
    "- a) input appears at the output after $t_G$\n",
    "- 0 is stored forever in b), 1 in c), and X in d)\n",
    "\n",
    "However, there is no way to override the storage without additional inputs. \n",
    "- Asynchronous storage circuits called latches are made from these storage circuits by replacing the inverters with NOR or NAND gates\n",
    "- Synchronous circuits are built from latches together with a clock generator p3\n",
    "  - their outputs can change their value only in the presence of clock pulses\n",
    "  - those use clock pulses as inputs for storage elements are called `clocked sequential circuits`\n",
    "  - the simplest form of clocked sequential circuits are called `flip-flops`\n",
    "    - they store only one bit of information\n",
    "    - and change state only in response to a clock pulse"
   ]
  },
  {
   "cell_type": "markdown",
   "metadata": {},
   "source": [
    "# Latches\n",
    "- p4 The SR latch is a circuit constructed from two cross-coupled NOR gates. \n",
    "- It has \n",
    "  - two inputs `set` S and `reset` R\n",
    "  - two outputs $Q$ and $\\bar{Q}$ are `normally` the complements of each other\n",
    "- It is in one of the sates below at a time\n",
    "  - `set state` when $(Q,\\bar{Q})=(1,0)$\n",
    "  - `reset state` when $(Q,\\bar{Q})=(0,1)$\n",
    "  - `undefined state` when $(Q,\\bar{Q})=(0,0)$ and (S,R)=(1,1)\n",
    "    - since it violates the requirement that the outputs be the complements of each other\n",
    "    - It also results in an indeterminate or unpredictable next state when both inputs return to 0 simultaneously\n",
    "- (S,R)=(0,0) is the `normal condition`\n",
    "  - during normal operation, only one of S and R can be changed to 1 from 0\n",
    "  - (S,R)=(1,0) transits the SR latch to `set state`\n",
    "  - (S,R)=(0,1) transits the SR latch to `reset state`\n",
    "- The behavior of the SR latch is illustrated in p5\n",
    "  - sequence matters in sequential sequential circuits\n",
    "  - a signal state is unknown when its level is 1/2 in p5\n",
    "    - at the beginning, (S,R) and $Q, \\bar{Q}$ are all unknown\n",
    "    - (S, R)=(0, 1) → (Q,Q')=(0,1)\n",
    "    - (S, R)=(0, 0) → (Q,Q')=(0,1)\n",
    "    - (S, R)=(1, 0) → (Q,Q')=(1,0)\n",
    "    - (S, R)=(0, 0) → (Q,Q')=(1,0)\n",
    "    - (S, R)=(0, 1) → (Q,Q')=(0,1)\n",
    "    - (S, R)=(0, 0) → (Q,Q')=(0,1)\n",
    "    - (S, R)=(1, 1) → (Q,Q')=(1,1)\n",
    "    - (S, R)=(0, 0) → (Q,Q')=(x,x)\n",
    "  - In general, the latch state changes only in response to input changes and remains unchanged otherwise"
   ]
  },
  {
   "cell_type": "markdown",
   "metadata": {},
   "source": [
    "- The $\\bar{S}\\bar{R}$ latch with two cross-coupled NAND gates"
   ]
  }
 ],
 "metadata": {
  "language_info": {
   "name": "python"
  }
 },
 "nbformat": 4,
 "nbformat_minor": 2
}
